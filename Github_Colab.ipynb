{
  "nbformat": 4,
  "nbformat_minor": 0,
  "metadata": {
    "colab": {
      "name": "Github_Colab.ipynb",
      "provenance": [],
      "collapsed_sections": [],
      "authorship_tag": "ABX9TyMf72Qp03wPwmhnIsh+SzQ1",
      "include_colab_link": true
    },
    "kernelspec": {
      "name": "python3",
      "display_name": "Python 3"
    },
    "language_info": {
      "name": "python"
    }
  },
  "cells": [
    {
      "cell_type": "markdown",
      "metadata": {
        "id": "view-in-github",
        "colab_type": "text"
      },
      "source": [
        "<a href=\"https://colab.research.google.com/github/Eui-Hwan/AI_STUDY/blob/main/Github_Colab.ipynb\" target=\"_parent\"><img src=\"https://colab.research.google.com/assets/colab-badge.svg\" alt=\"Open In Colab\"/></a>"
      ]
    },
    {
      "cell_type": "markdown",
      "source": [
        "## Google Drive와 Colab과 Github를 연동시키는 방법"
      ],
      "metadata": {
        "id": "cd-yut2PdPnQ"
      }
    },
    {
      "cell_type": "markdown",
      "source": [
        "\n",
        "\n",
        "\n",
        "1.   여러가지 방법을 시도해 보았으나 가장 간단했던 방법은...\n",
        "2.   Github의 Repository를 새로 만듦\n",
        "3.   관리자 명령 프롬프트에서 간단한 파일을 upload 함. </p>\n",
        " 참고 : https://www.youtube.com/watch?v=rhP5pseOJc0&t=20s&ab_channel=%EB%8F%99%EB%B9%88%EB%82%98\n",
        "\n",
        "4.   간단한 파일이 Github에 올라간 후에는 코렙에서 [파일]=>[Github에 사본저장]기능을 통해서 추가적인 파일을 쉽게 업로드 할 수 있다.     \n",
        "\n",
        "\n",
        "\n",
        "\n"
      ],
      "metadata": {
        "id": "CfOdLotudeE2"
      }
    }
  ]
}