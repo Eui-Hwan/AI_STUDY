{
  "nbformat": 4,
  "nbformat_minor": 0,
  "metadata": {
    "colab": {
      "provenance": [],
      "authorship_tag": "ABX9TyOsoEc7tyO67UVf47JkiGWo",
      "include_colab_link": true
    },
    "kernelspec": {
      "name": "python3",
      "display_name": "Python 3"
    },
    "language_info": {
      "name": "python"
    }
  },
  "cells": [
    {
      "cell_type": "markdown",
      "metadata": {
        "id": "view-in-github",
        "colab_type": "text"
      },
      "source": [
        "<a href=\"https://colab.research.google.com/github/Eui-Hwan/AI_STUDY/blob/main/greenmotor.ipynb\" target=\"_parent\"><img src=\"https://colab.research.google.com/assets/colab-badge.svg\" alt=\"Open In Colab\"/></a>"
      ]
    },
    {
      "cell_type": "code",
      "execution_count": null,
      "metadata": {
        "id": "RAcxVaivlror"
      },
      "outputs": [],
      "source": []
    },
    {
      "cell_type": "markdown",
      "source": [
        "# 5cycle\n",
        "FTP75\n",
        "cold FTP57\n",
        "HWETP\n",
        "CS06\n",
        "SC03"
      ],
      "metadata": {
        "id": "s-zBUP0AmLI0"
      }
    },
    {
      "cell_type": "code",
      "source": [],
      "metadata": {
        "id": "LUUF5n1PmtlC"
      },
      "execution_count": null,
      "outputs": []
    }
  ]
}